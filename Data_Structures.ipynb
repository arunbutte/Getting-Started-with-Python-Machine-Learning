{
 "cells": [
  {
   "cell_type": "markdown",
   "metadata": {},
   "source": [
    "### Palindrom permutation\n",
    "\n",
    "## Is to check if any permutation of the string can form a palindrom"
   ]
  },
  {
   "cell_type": "code",
   "execution_count": null,
   "metadata": {
    "collapsed": true
   },
   "outputs": [],
   "source": [
    "# input the string \n",
    "# find all possible permutations of the string\n",
    "# if any one of those permutation is a palindome return TRUE else FALSE"
   ]
  },
  {
   "cell_type": "code",
   "execution_count": 49,
   "metadata": {
    "collapsed": true
   },
   "outputs": [],
   "source": [
    "def palindrom_permutation(str):    \n",
    "    str = str.lower()\n",
    "    import itertools\n",
    "    permut = [''.join(p) for p in permutations(str)]\n",
    "    #print(permut)\n",
    "    count = 0\n",
    "    for i in range(len(permut)):\n",
    "        element = permut[i]\n",
    "        #print(i, element,element[::-1] )\n",
    "        if element ==  element[::-1]:\n",
    "            return True\n",
    "            break\n",
    "        else:\n",
    "            pass\n",
    "    return False"
   ]
  },
  {
   "cell_type": "code",
   "execution_count": 50,
   "metadata": {},
   "outputs": [
    {
     "data": {
      "text/plain": [
       "True"
      ]
     },
     "execution_count": 50,
     "metadata": {},
     "output_type": "execute_result"
    }
   ],
   "source": [
    "palindrom_permutation(\"geeksogeeks\")"
   ]
  },
  {
   "cell_type": "code",
   "execution_count": 38,
   "metadata": {
    "collapsed": true
   },
   "outputs": [],
   "source": [
    "from itertools import permutations\n",
    "A = \"Arun\"\n",
    "\n",
    "l = [''.join(p) for p in permutations(A)]"
   ]
  },
  {
   "cell_type": "code",
   "execution_count": 41,
   "metadata": {},
   "outputs": [
    {
     "data": {
      "text/plain": [
       "'arun'"
      ]
     },
     "execution_count": 41,
     "metadata": {},
     "output_type": "execute_result"
    }
   ],
   "source": [
    "A.lower()"
   ]
  },
  {
   "cell_type": "markdown",
   "metadata": {},
   "source": [
    "### One Away "
   ]
  },
  {
   "cell_type": "code",
   "execution_count": 54,
   "metadata": {
    "collapsed": true
   },
   "outputs": [],
   "source": [
    "# There are three types of edits that can be performed on strings: insert a character,\n",
    "# remove a character, or replace a character. Given two strings, write a function to check if they are\n",
    "# one edit (or zero edits) away."
   ]
  },
  {
   "cell_type": "code",
   "execution_count": 55,
   "metadata": {
    "collapsed": true
   },
   "outputs": [],
   "source": [
    "# intput str1 and str2\n",
    "# check the len of str1 and str2\n",
    "# insert a char if len(str2) < len(str1):\n",
    "    # str2 should have all the char of str1 \n",
    "    # calculate len(str2) - len(str1), gives the count\n",
    "# remove a char if len(str2) > len(str1):\n",
    "    # str1 should have all the char of str2 \n",
    "    # calculate len(str1) - len(str2), gives the count\n",
    "# replace a character if len(str1) == len(str2):\n",
    "    # only one mismatch in elements"
   ]
  },
  {
   "cell_type": "code",
   "execution_count": 6,
   "metadata": {
    "collapsed": true
   },
   "outputs": [],
   "source": [
    "def one_away(str1, str2):\n",
    "    list_str1 = [s for s in str1]\n",
    "    list_str2 = [s for s in str2]\n",
    "    #1    \n",
    "    if (len(str2) < len(str1)):\n",
    "        count_insert = 0\n",
    "        for s2 in str2:\n",
    "            #print(\"first loop\")\n",
    "            for s1 in range(len(str1)):\n",
    "                if s2 == str1[s1]: \n",
    "                    #print(s1, s2, str1[s1])\n",
    "                    count_insert += 1\n",
    "                    break\n",
    "        if count_insert == len(str2):\n",
    "            return (len(str1) - count_insert)\n",
    "        \n",
    "    if (len(str2) == len(str1)):\n",
    "        count_remove = 0\n",
    "        print(1)\n",
    "        for s2 in str2:\n",
    "            print(\"first loop\")\n",
    "            for s1 in range(len(str1)):\n",
    "                if s2 != str1[s1]:\n",
    "                    count_remove += 1\n",
    "                    print(s1, s2, str1[s1], count_remove)\n",
    "                    continue\n",
    "            if count_remove == (len(str1)-1):\n",
    "                count_remove = 0\n",
    "            elif count_remove == (len(str1)):\n",
    "                count_remove = 1\n",
    "            else:\n",
    "                count_remove = 0\n",
    "        if count_remove == 1:\n",
    "            return True  \n",
    "    "
   ]
  },
  {
   "cell_type": "code",
   "execution_count": 7,
   "metadata": {
    "collapsed": true
   },
   "outputs": [],
   "source": [
    "#one_away(\"pale\", \"ple\")\n",
    "one_away(\"pales\", \"bale\")"
   ]
  },
  {
   "cell_type": "markdown",
   "metadata": {},
   "source": [
    "### String comparision\n",
    "### EX: the string aabcccccaaa would become a2b1c5a3"
   ]
  },
  {
   "cell_type": "code",
   "execution_count": 80,
   "metadata": {
    "collapsed": true
   },
   "outputs": [],
   "source": [
    "def stringcomp(str):\n",
    "    dict_str = {s:0 for s in list(dict.fromkeys(str))}\n",
    "    output = \"\"\n",
    "    for s in str:\n",
    "        dict_str[s] += 1\n",
    "    for s in dict_str:\n",
    "        i = dict_str[s]\n",
    "        print(f\"{s}{dict_str[s]}\")\n",
    "        #output += s + str(i)\n",
    "    \n",
    "    "
   ]
  },
  {
   "cell_type": "code",
   "execution_count": 81,
   "metadata": {},
   "outputs": [
    {
     "name": "stdout",
     "output_type": "stream",
     "text": [
      "A2\n",
      "r1\n",
      "u1\n",
      "n2\n"
     ]
    }
   ],
   "source": [
    "stringcomp(\"AArunn\")"
   ]
  },
  {
   "cell_type": "code",
   "execution_count": 69,
   "metadata": {},
   "outputs": [
    {
     "data": {
      "text/plain": [
       "'2'"
      ]
     },
     "execution_count": 69,
     "metadata": {},
     "output_type": "execute_result"
    }
   ],
   "source": [
    "\n",
    "str(2)"
   ]
  },
  {
   "cell_type": "markdown",
   "metadata": {
    "collapsed": true
   },
   "source": [
    "### Rotate Matrix\n",
    "\n",
    "## Given an image represented by an NxN matrix, where each pixel in the image is 4\n",
    "## bytes, write a method to rotate the image by 90 degrees."
   ]
  },
  {
   "cell_type": "code",
   "execution_count": 17,
   "metadata": {
    "collapsed": true
   },
   "outputs": [],
   "source": [
    "def rotate_matrix(n):\n",
    "    n_rows, n_col = n, n\n",
    "    L = []\n",
    "    for i in range(n_rows):            \n",
    "        L.append([i for i in range(n_col)])\n",
    "    print(L)"
   ]
  },
  {
   "cell_type": "code",
   "execution_count": 18,
   "metadata": {},
   "outputs": [
    {
     "name": "stdout",
     "output_type": "stream",
     "text": [
      "[[0, 1, 2], [0, 1, 2], [0, 1, 2]]\n"
     ]
    }
   ],
   "source": [
    "rotate_matrix(3)"
   ]
  },
  {
   "cell_type": "code",
   "execution_count": 20,
   "metadata": {
    "collapsed": true
   },
   "outputs": [],
   "source": [
    "# [0, 0, 0] [1, 1, 1] [2, 2, 2]"
   ]
  },
  {
   "cell_type": "code",
   "execution_count": 25,
   "metadata": {
    "collapsed": true
   },
   "outputs": [],
   "source": [
    "# O(NxN)\n",
    "import unittest\n",
    "\n",
    "\n",
    "#def rotate_matrix(matrix):\n",
    "    \n",
    "matrix = [[1, 2, 3, 4, 5],\n",
    "            [6, 7, 8, 9, 10],\n",
    "            [11, 12, 13, 14, 15],\n",
    "            [16, 17, 18, 19, 20],\n",
    "            [21, 22, 23, 24, 25]\n",
    "        ]\n",
    "n = len(matrix)\n",
    "for layer in range(n // 2):\n",
    "    first, last = layer, n - layer - 1\n",
    "    for i in range(first, last):\n",
    "            # save top\n",
    "        top = matrix[layer][i]\n",
    "\n",
    "            # left -> top\n",
    "        matrix[layer][i] = matrix[-i - 1][layer]\n",
    "\n",
    "           # bottom -> left\n",
    "        matrix[-i - 1][layer] = matrix[-layer - 1][-i - 1]\n",
    "\n",
    "           # right -> bottom\n",
    "        matrix[-layer - 1][-i - 1] = matrix[i][- layer - 1]\n",
    "\n",
    "           # top -> right\n",
    "        matrix[i][- layer - 1] = top\n",
    "    #return matrix"
   ]
  },
  {
   "cell_type": "code",
   "execution_count": 28,
   "metadata": {},
   "outputs": [
    {
     "data": {
      "text/plain": [
       "2"
      ]
     },
     "execution_count": 28,
     "metadata": {},
     "output_type": "execute_result"
    }
   ],
   "source": [
    "n // 2\n",
    "0 to 4\n"
   ]
  },
  {
   "cell_type": "code",
   "execution_count": 26,
   "metadata": {},
   "outputs": [
    {
     "data": {
      "text/plain": [
       "[[21, 16, 11, 6, 1],\n",
       " [22, 17, 12, 7, 2],\n",
       " [23, 18, 13, 8, 3],\n",
       " [24, 19, 14, 9, 4],\n",
       " [25, 20, 15, 10, 5]]"
      ]
     },
     "execution_count": 26,
     "metadata": {},
     "output_type": "execute_result"
    }
   ],
   "source": [
    "rotate_matrix([\n",
    "            [1, 2, 3, 4, 5],\n",
    "            [6, 7, 8, 9, 10],\n",
    "            [11, 12, 13, 14, 15],\n",
    "            [16, 17, 18, 19, 20],\n",
    "            [21, 22, 23, 24, 25]\n",
    "        ])"
   ]
  },
  {
   "cell_type": "code",
   "execution_count": 23,
   "metadata": {
    "collapsed": true
   },
   "outputs": [],
   "source": [
    "def rotation_string(str):\n",
    "    l  = []\n",
    "    #str = \"\"\n",
    "    for i in str:\n",
    "        l.append(i)\n",
    "    #print(l)\n",
    "    for j in range(len(l) // 2):\n",
    "        a = l[j]\n",
    "        b = l[-(j+1)]\n",
    "        l[j] = b\n",
    "        l[-(j+1)] = a\n",
    "    return l"
   ]
  },
  {
   "cell_type": "code",
   "execution_count": 24,
   "metadata": {},
   "outputs": [
    {
     "data": {
      "text/plain": [
       "['e', 'l', 't', 't', 'o', 'b', 'r', 'e', 't', 'a', 'w']"
      ]
     },
     "execution_count": 24,
     "metadata": {},
     "output_type": "execute_result"
    }
   ],
   "source": [
    "rotation_string(\"waterbottle\")"
   ]
  },
  {
   "cell_type": "code",
   "execution_count": 2,
   "metadata": {},
   "outputs": [
    {
     "data": {
      "text/plain": [
       "['A', 'r', 'u', 'n']"
      ]
     },
     "execution_count": 2,
     "metadata": {},
     "output_type": "execute_result"
    }
   ],
   "source": [
    "str = \"Arun\"\n",
    "l  = []\n",
    "for i in str:\n",
    "    l.append(i)\n",
    "\n",
    "l"
   ]
  },
  {
   "cell_type": "code",
   "execution_count": 47,
   "metadata": {
    "collapsed": true
   },
   "outputs": [],
   "source": [
    "a = l[0]\n",
    "l[-1] = a"
   ]
  },
  {
   "cell_type": "code",
   "execution_count": 48,
   "metadata": {},
   "outputs": [
    {
     "data": {
      "text/plain": [
       "['A', 'r', 'u', 'A']"
      ]
     },
     "execution_count": 48,
     "metadata": {},
     "output_type": "execute_result"
    }
   ],
   "source": [
    "l"
   ]
  },
  {
   "cell_type": "markdown",
   "metadata": {
    "collapsed": true
   },
   "source": [
    "## Remove dublicates"
   ]
  },
  {
   "cell_type": "code",
   "execution_count": 16,
   "metadata": {
    "collapsed": true
   },
   "outputs": [],
   "source": [
    "import llist\n",
    "from llist import sllist,sllistnode \n",
    "\n",
    "\n",
    "def remove_dups(ll):\n",
    "    current = ll.first\n",
    "    while current is False:\n",
    "        print(current)\n",
    "        while current.next is False:\n",
    "            print(current.next.value)\n",
    "            if current.next.value == current.value:\n",
    "                    current.next = current.next.next \n",
    "    return ll"
   ]
  },
  {
   "cell_type": "code",
   "execution_count": 33,
   "metadata": {
    "collapsed": true
   },
   "outputs": [],
   "source": [
    "def movetok(ll, kth):\n",
    "    current = ll.first\n",
    "    for i in range(kth):\n",
    "        current = current.next\n",
    "    kth_last = []\n",
    "    for i in range(kth, len(ll)):\n",
    "        print(i, len(ll))\n",
    "        if i!=(len(ll)-1):\n",
    "            kth_last.append(current.next.value)\n",
    "            current =  current.next\n",
    "    return kth_last"
   ]
  },
  {
   "cell_type": "code",
   "execution_count": 35,
   "metadata": {},
   "outputs": [
    {
     "name": "stdout",
     "output_type": "stream",
     "text": [
      "1 5\n",
      "2 5\n",
      "3 5\n",
      "4 5\n"
     ]
    },
    {
     "data": {
      "text/plain": [
       "[2, 3, 2]"
      ]
     },
     "execution_count": 35,
     "metadata": {},
     "output_type": "execute_result"
    }
   ],
   "source": [
    "lst = sllist([1, 2, 2, 3, 2])\n",
    "remove_dups(lst)\n",
    "movetok(lst, 1)"
   ]
  },
  {
   "cell_type": "code",
   "execution_count": 86,
   "metadata": {},
   "outputs": [
    {
     "data": {
      "text/plain": [
       "sllist([1, 2, 2, 3, 4])"
      ]
     },
     "execution_count": 86,
     "metadata": {},
     "output_type": "execute_result"
    }
   ],
   "source": [
    "lst"
   ]
  },
  {
   "cell_type": "code",
   "execution_count": 69,
   "metadata": {},
   "outputs": [
    {
     "data": {
      "text/plain": [
       "1"
      ]
     },
     "execution_count": 69,
     "metadata": {},
     "output_type": "execute_result"
    }
   ],
   "source": [
    "lst.first()"
   ]
  },
  {
   "cell_type": "code",
   "execution_count": 93,
   "metadata": {},
   "outputs": [
    {
     "name": "stdout",
     "output_type": "stream",
     "text": [
      "sllistnode(1)\n"
     ]
    }
   ],
   "source": [
    "current = lst.first\n",
    "print(current)"
   ]
  },
  {
   "cell_type": "code",
   "execution_count": 95,
   "metadata": {},
   "outputs": [
    {
     "data": {
      "text/plain": [
       "<sllistnode(2)>"
      ]
     },
     "execution_count": 95,
     "metadata": {},
     "output_type": "execute_result"
    }
   ],
   "source": [
    "lst.first.next"
   ]
  },
  {
   "cell_type": "markdown",
   "metadata": {
    "collapsed": true
   },
   "source": [
    "### Min-Heap "
   ]
  },
  {
   "cell_type": "code",
   "execution_count": 20,
   "metadata": {
    "collapsed": true
   },
   "outputs": [],
   "source": [
    "class BinHeap:\n",
    "    def __init__(self, array):\n",
    "        self.heapList = array\n",
    "        self.currentSize = len(array)\n",
    "        \n",
    "    def push(self, node):\n",
    "        self.heapList.append(node)\n",
    "        self.currentSize += 1\n",
    "        index = self.currentSize - 1\n",
    "        self.bubbleUp(index)\n",
    "    \n",
    "    def bubbleUp(self, i):\n",
    "        parentIdx = abs(i - 1) // 2\n",
    "        while i > 0 and self.heapList[i] < self.heapList[parentIdx]:\n",
    "            self.heapList[i], self.heapList[parentIdx] = self.heapList[parentIdx], self.heapList[i]\n",
    "            i = parentIdx\n",
    "            parentIdx = (i - 1) // 2\n",
    "\n",
    "    def pop(self):\n",
    "        last = self.heapList[self.currentSize - 1]\n",
    "        self.heapList[0] = last\n",
    "        self.currentSize -= 1\n",
    "        self.heapList.pop()\n",
    "        self.bubbleDown()\n",
    "        \n",
    "    def bubbleDown(self, i=0):\n",
    "        node = self.heapList[i]\n",
    "        leftIdx = 2*i + 1\n",
    "        rightIdx = 2*i + 2\n",
    "        children = self.getChildren(leftIdx, rightIdx)\n",
    "        smaller, smallerIdx = self.getSmaller(children)\n",
    "        while children and node > smaller:\n",
    "            self.heapList[i], self.heapList[smallerIdx] = self.heapList[smallerIdx], self.heapList[i]\n",
    "            i = smallerIdx\n",
    "            leftIdx = 2*i + 1\n",
    "            rightIdx = 2*i + 2\n",
    "            children = self.getChildren(leftIdx, rightIdx)\n",
    "            smaller, smallerIdx = self.getSmaller(children)\n",
    "            \n",
    "    def getChildren(self, leftI, rightI):\n",
    "        children = []\n",
    "        if leftI < self.currentSize:\n",
    "            children.append((self.heapList[leftI], leftI))\n",
    "        if rightI < self.currentSize:\n",
    "            children.append((self.heapList[rightI], rightI))\n",
    "        return children\n",
    "    \n",
    "    def getSmaller(self, children):\n",
    "        if len(children) == 0:\n",
    "            return float('inf'), None\n",
    "        if len(children) == 1:\n",
    "            return children[0]\n",
    "        else:\n",
    "            childA, iA = children[0]\n",
    "            childB, iB = children[1]\n",
    "            return children[0] if childA < childB else children[1]\n",
    "    \n",
    "    def transformList(self):\n",
    "        i = (self.currentSize - 1) // 2\n",
    "        while (i >= 0):\n",
    "            self.bubbleDown(i)\n",
    "            i -= 1\n",
    "    \n",
    "    class BinHeap:\n",
    "        def __init__(self, array):\n",
    "            self.heapList = array\n",
    "            self.currentSize = len(array)\n",
    "            self.transformList()"
   ]
  },
  {
   "cell_type": "code",
   "execution_count": null,
   "metadata": {
    "collapsed": true
   },
   "outputs": [],
   "source": [
    "array = [1, 4, 6, 2, 5, 3, 9, 8, 7]\n",
    "t = BinHeap(array)\n",
    "minHeap = []\n",
    "for num in array:\n",
    "    t.push(num)\n",
    "print(\"minHeap:\",minHeap)\n",
    "\n",
    "print(t.transformList())\n",
    "print(t)"
   ]
  },
  {
   "cell_type": "code",
   "execution_count": 5,
   "metadata": {},
   "outputs": [
    {
     "ename": "ModuleNotFoundError",
     "evalue": "No module named 'Queue'",
     "output_type": "error",
     "traceback": [
      "\u001b[0;31m---------------------------------------------------------------------------\u001b[0m",
      "\u001b[0;31mModuleNotFoundError\u001b[0m                       Traceback (most recent call last)",
      "\u001b[0;32m<ipython-input-5-80b8fcd5e467>\u001b[0m in \u001b[0;36m<module>\u001b[0;34m()\u001b[0m\n\u001b[0;32m----> 1\u001b[0;31m \u001b[0;32mimport\u001b[0m \u001b[0mQueue\u001b[0m\u001b[0;34m\u001b[0m\u001b[0m\n\u001b[0m\u001b[1;32m      2\u001b[0m \u001b[0;34m\u001b[0m\u001b[0m\n\u001b[1;32m      3\u001b[0m \u001b[0;34m\u001b[0m\u001b[0m\n\u001b[1;32m      4\u001b[0m \u001b[0;32mclass\u001b[0m \u001b[0mGraph\u001b[0m\u001b[0;34m(\u001b[0m\u001b[0;34m)\u001b[0m\u001b[0;34m:\u001b[0m\u001b[0;34m\u001b[0m\u001b[0m\n\u001b[1;32m      5\u001b[0m \u001b[0;34m\u001b[0m\u001b[0m\n",
      "\u001b[0;31mModuleNotFoundError\u001b[0m: No module named 'Queue'"
     ]
    }
   ],
   "source": [
    "import Queue\n",
    "\n",
    "\n",
    "class Graph():\n",
    "\n",
    "    def __init__(self):\n",
    "        self.max_vertices = 6\n",
    "        self.vertices = [0] * self.max_vertices\n",
    "        self.count = 0\n",
    "\n",
    "    def addNode(self, x):\n",
    "        if self.count < self.max_vertices:\n",
    "            self.vertices[self.count] = x\n",
    "            self.count += 1\n",
    "        else:\n",
    "            print(\"Graph full\")\n",
    "\n",
    "    def getNodes(self):\n",
    "        return self.vertices\n",
    "\n",
    "\n",
    "class Node():\n",
    "\n",
    "    def __init__(self, vertex, adjacentLength):\n",
    "        self.adjacent = [0] * adjacentLength\n",
    "        self.vertex = vertex\n",
    "        self.adjacentCount = 0\n",
    "        self.visited = False\n",
    "\n",
    "    def addAdjacent(self, x):\n",
    "        if self.adjacentCount < len(self.adjacent):\n",
    "            self.adjacent[self.adjacentCount] = x\n",
    "            self.adjacentCount += 1\n",
    "        else:\n",
    "            print(\"No more adjacent nodes can be added\")\n",
    "\n",
    "    def getAdjacent(self):\n",
    "        return self.adjacent\n",
    "\n",
    "    def getVertex(self):\n",
    "        return self.vertex\n",
    "\n",
    "\n",
    "    def breadthfirstsearch(g, start, end):\n",
    "        if start == end:\n",
    "            return True\n",
    "        q = Queue.Queue(len(g.getNodes()))\n",
    "        start.visited = True\n",
    "        q.put(start)\n",
    "        while not q.empty():\n",
    "            r = q.get()\n",
    "            if r != None:\n",
    "                adjacent = r.getAdjacent()\n",
    "                for i in range(len(adjacent)):\n",
    "                    if adjacent[i].visited == False:\n",
    "                        if adjacent[i] == end:\n",
    "                            return True\n",
    "                        else:\n",
    "                            q.put(adjacent[i])\n",
    "                        adjacent[i].visited = True\n",
    "        return False\n",
    "\n",
    "\n",
    "    def createNewGraph():\n",
    "        g = Graph()\n",
    "        sizegraph = 6\n",
    "        temp = [0] * sizegraph\n",
    "\n",
    "        temp[0] = Node(\"a\", 3)\n",
    "        temp[1] = Node(\"b\", 0)\n",
    "        temp[2] = Node(\"c\", 0)\n",
    "        temp[3] = Node(\"d\", 1)\n",
    "        temp[4] = Node(\"e\", 1)\n",
    "        temp[5] = Node(\"f\", 0)\n",
    "\n",
    "        temp[0].addAdjacent(temp[1])\n",
    "        temp[0].addAdjacent(temp[2])\n",
    "        temp[0].addAdjacent(temp[3])\n",
    "        temp[3].addAdjacent(temp[4])\n",
    "        temp[4].addAdjacent(temp[5])\n",
    "\n",
    "        for i in range(sizegraph):\n",
    "            g.addNode(temp[i])\n",
    "        return g\n",
    "\n",
    "\n",
    "    def createNewGraphWithLoop():\n",
    "        g = Graph()\n",
    "        sizegraph = 6\n",
    "        temp = [0] * sizegraph\n",
    "\n",
    "        temp[0] = Node(\"a\", 1)\n",
    "        temp[1] = Node(\"b\", 1)\n",
    "        temp[2] = Node(\"c\", 1)\n",
    "        temp[3] = Node(\"d\", 1)\n",
    "        temp[4] = Node(\"e\", 2)\n",
    "        temp[5] = Node(\"f\", 0)\n",
    "\n",
    "        temp[0].addAdjacent(temp[1])\n",
    "        temp[1].addAdjacent(temp[2])\n",
    "        temp[2].addAdjacent(temp[3])\n",
    "        temp[3].addAdjacent(temp[4])\n",
    "        temp[4].addAdjacent(temp[1])\n",
    "        temp[4].addAdjacent(temp[5])\n",
    "\n",
    "        for i in range(sizegraph):\n",
    "            g.addNode(temp[i])\n",
    "        return g\n",
    "\n",
    "g = createNewGraphWithLoop()\n",
    "n = g.getNodes()\n",
    "start = n[0]\n",
    "end = n[5]\n",
    "print(\"Start at:\", start.getVertex(), \"End at: \", end.getVertex())\n",
    "print(breadthfirstsearch(g, start, end))"
   ]
  },
  {
   "cell_type": "code",
   "execution_count": 7,
   "metadata": {},
   "outputs": [
    {
     "name": "stdout",
     "output_type": "stream",
     "text": [
      "Collecting Queue\n",
      "\u001b[31m  Could not find a version that satisfies the requirement Queue (from versions: )\u001b[0m\n",
      "\u001b[31mNo matching distribution found for Queue\u001b[0m\n",
      "\u001b[33mYou are using pip version 9.0.1, however version 20.2.3 is available.\n",
      "You should consider upgrading via the 'pip install --upgrade pip' command.\u001b[0m\n"
     ]
    }
   ],
   "source": [
    "!pip install Queue"
   ]
  },
  {
   "cell_type": "code",
   "execution_count": null,
   "metadata": {
    "collapsed": true
   },
   "outputs": [],
   "source": []
  }
 ],
 "metadata": {
  "kernelspec": {
   "display_name": "Python 3",
   "language": "python",
   "name": "python3"
  },
  "language_info": {
   "codemirror_mode": {
    "name": "ipython",
    "version": 3
   },
   "file_extension": ".py",
   "mimetype": "text/x-python",
   "name": "python",
   "nbconvert_exporter": "python",
   "pygments_lexer": "ipython3",
   "version": "3.6.2"
  }
 },
 "nbformat": 4,
 "nbformat_minor": 2
}
