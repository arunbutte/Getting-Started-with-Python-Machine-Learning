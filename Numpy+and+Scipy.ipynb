{
 "cells": [
  {
   "cell_type": "code",
   "execution_count": 69,
   "metadata": {
    "collapsed": true
   },
   "outputs": [],
   "source": [
    "import numpy as np\n",
    "import scipy as sp"
   ]
  },
  {
   "cell_type": "code",
   "execution_count": 70,
   "metadata": {},
   "outputs": [
    {
     "data": {
      "text/plain": [
       "array([ 3.        ,  0.        ,  0.        ,  0.        ,  0.        ,\n",
       "        0.        , -1.        , -0.77777778, -0.55555556, -0.33333333,\n",
       "       -0.11111111,  0.11111111,  0.33333333,  0.55555556,  0.77777778,  1.        ])"
      ]
     },
     "execution_count": 70,
     "metadata": {},
     "output_type": "execute_result"
    }
   ],
   "source": [
    "a = np.concatenate(([3], [0]*5, np.arange(-1, 1.002, 2/9.0)))\n",
    "a"
   ]
  },
  {
   "cell_type": "code",
   "execution_count": 71,
   "metadata": {},
   "outputs": [
    {
     "data": {
      "text/plain": [
       "array([ 3.        ,  2.        ,  2.        , -1.        , -0.33333333,\n",
       "        0.33333333,  1.        ])"
      ]
     },
     "execution_count": 71,
     "metadata": {},
     "output_type": "execute_result"
    }
   ],
   "source": [
    "b = np.r_[3,[2]*2,-1:1:4j]\n",
    "b"
   ]
  },
  {
   "cell_type": "code",
   "execution_count": 72,
   "metadata": {},
   "outputs": [
    {
     "data": {
      "text/plain": [
       "array([[ 10.        ,  -1.        ,   3.        ],\n",
       "       [ 13.33333333,  -0.33333333,   3.33333333],\n",
       "       [ 16.66666667,   0.33333333,   3.66666667],\n",
       "       [ 20.        ,   1.        ,   4.        ]])"
      ]
     },
     "execution_count": 72,
     "metadata": {},
     "output_type": "execute_result"
    }
   ],
   "source": [
    "c = np.c_[10:20:4j, -1:1:4j, 3:4:4j]\n",
    "c"
   ]
  },
  {
   "cell_type": "code",
   "execution_count": 73,
   "metadata": {},
   "outputs": [
    {
     "name": "stdout",
     "output_type": "stream",
     "text": [
      "[[[ 0.          0.          0.          0.        ]\n",
      "  [ 1.          1.          1.          1.        ]\n",
      "  [ 2.          2.          2.          2.        ]\n",
      "  [ 3.          3.          3.          3.        ]\n",
      "  [ 4.          4.          4.          4.        ]]\n",
      "\n",
      " [[-1.         -0.33333333  0.33333333  1.        ]\n",
      "  [-1.         -0.33333333  0.33333333  1.        ]\n",
      "  [-1.         -0.33333333  0.33333333  1.        ]\n",
      "  [-1.         -0.33333333  0.33333333  1.        ]\n",
      "  [-1.         -0.33333333  0.33333333  1.        ]]]\n",
      "[[[ True  True  True  True]\n",
      "  [ True  True  True  True]\n",
      "  [ True  True  True  True]\n",
      "  [ True  True  True  True]\n",
      "  [ True  True  True  True]]\n",
      "\n",
      " [[ True  True  True  True]\n",
      "  [ True  True  True  True]\n",
      "  [ True  True  True  True]\n",
      "  [ True  True  True  True]\n",
      "  [ True  True  True  True]]]\n",
      "[[[ 0.          0.          0.          0.        ]\n",
      "  [ 0.          0.          0.          0.        ]\n",
      "  [ 0.          0.          0.          0.        ]\n",
      "  [ 0.          0.          0.          0.        ]\n",
      "  [ 0.          0.          0.          0.        ]]\n",
      "\n",
      " [[ 3.14159265  3.14159265  0.          0.        ]\n",
      "  [ 3.14159265  3.14159265  0.          0.        ]\n",
      "  [ 3.14159265  3.14159265  0.          0.        ]\n",
      "  [ 3.14159265  3.14159265  0.          0.        ]\n",
      "  [ 3.14159265  3.14159265  0.          0.        ]]]\n",
      "[[[ 0.          0.          0.          0.        ]\n",
      "  [ 1.          1.          1.          1.        ]\n",
      "  [ 2.          2.          2.          2.        ]\n",
      "  [ 3.          3.          3.          3.        ]\n",
      "  [ 4.          4.          4.          4.        ]]\n",
      "\n",
      " [[-1.         -0.33333333  0.33333333  1.        ]\n",
      "  [-1.         -0.33333333  0.33333333  1.        ]\n",
      "  [-1.         -0.33333333  0.33333333  1.        ]\n",
      "  [-1.         -0.33333333  0.33333333  1.        ]\n",
      "  [-1.         -0.33333333  0.33333333  1.        ]]]\n"
     ]
    }
   ],
   "source": [
    "d = np.mgrid[0:5, -1:1:4j]\n",
    "print(d)\n",
    "print(np.isreal(d))\n",
    "print(np.angle(d))\n",
    "print(np.unwrap(d))"
   ]
  },
  {
   "cell_type": "code",
   "execution_count": 74,
   "metadata": {},
   "outputs": [
    {
     "data": {
      "text/plain": [
       "[array([[0],\n",
       "        [1],\n",
       "        [2],\n",
       "        [3],\n",
       "        [4]]), array([[10, 11, 12, 13, 14, 15, 16, 17, 18, 19]])]"
      ]
     },
     "execution_count": 74,
     "metadata": {},
     "output_type": "execute_result"
    }
   ],
   "source": [
    "e = np.ogrid[0:5, 10:20]\n",
    "e"
   ]
  },
  {
   "cell_type": "code",
   "execution_count": 75,
   "metadata": {},
   "outputs": [
    {
     "name": "stdout",
     "output_type": "stream",
     "text": [
      " \n",
      "2 x + 4\n",
      "   2\n",
      "4 x + 16 x + 16\n",
      "   2\n",
      "1 x + 4 x + 4\n",
      "   2\n",
      "1 x + 4 x + 6\n",
      " \n",
      "2\n"
     ]
    },
    {
     "data": {
      "text/plain": [
       "array([ 8, 10])"
      ]
     },
     "execution_count": 75,
     "metadata": {},
     "output_type": "execute_result"
    }
   ],
   "source": [
    "from numpy import poly1d\n",
    "p = poly1d([2,4])\n",
    "print(p)\n",
    "print(p*p)\n",
    "print(p.integ(k=4))\n",
    "print(p.integ(k=6))\n",
    "print(p.deriv())\n",
    "p([2,3])"
   ]
  },
  {
   "cell_type": "code",
   "execution_count": 76,
   "metadata": {
    "collapsed": true
   },
   "outputs": [],
   "source": [
    "#using vectorization\n",
    "def add_substract(a,b):\n",
    "    if a > b:\n",
    "        return a - b\n",
    "    else:\n",
    "        return a + b\n",
    "\n",
    "vec_addsub = np.vectorize(add_substract)"
   ]
  },
  {
   "cell_type": "code",
   "execution_count": 77,
   "metadata": {},
   "outputs": [
    {
     "name": "stdout",
     "output_type": "stream",
     "text": [
      "7\n",
      "[1 6 1 2]\n"
     ]
    }
   ],
   "source": [
    "print(add_substract(3,4))\n",
    "print(vec_addsub([0,3,6,9],[1,3,5,7]))"
   ]
  },
  {
   "cell_type": "code",
   "execution_count": 78,
   "metadata": {},
   "outputs": [
    {
     "name": "stdout",
     "output_type": "stream",
     "text": [
      "Help on function unwrap in module numpy.lib.function_base:\n",
      "\n",
      "unwrap(p, discont=3.141592653589793, axis=-1)\n",
      "    Unwrap by changing deltas between values to 2*pi complement.\n",
      "    \n",
      "    Unwrap radian phase `p` by changing absolute jumps greater than\n",
      "    `discont` to their 2*pi complement along the given axis.\n",
      "    \n",
      "    Parameters\n",
      "    ----------\n",
      "    p : array_like\n",
      "        Input array.\n",
      "    discont : float, optional\n",
      "        Maximum discontinuity between values, default is ``pi``.\n",
      "    axis : int, optional\n",
      "        Axis along which unwrap will operate, default is the last axis.\n",
      "    \n",
      "    Returns\n",
      "    -------\n",
      "    out : ndarray\n",
      "        Output array.\n",
      "    \n",
      "    See Also\n",
      "    --------\n",
      "    rad2deg, deg2rad\n",
      "    \n",
      "    Notes\n",
      "    -----\n",
      "    If the discontinuity in `p` is smaller than ``pi``, but larger than\n",
      "    `discont`, no unwrapping is done because taking the 2*pi complement\n",
      "    would only make the discontinuity larger.\n",
      "    \n",
      "    Examples\n",
      "    --------\n",
      "    >>> phase = np.linspace(0, np.pi, num=5)\n",
      "    >>> phase[3:] += np.pi\n",
      "    >>> phase\n",
      "    array([ 0.        ,  0.78539816,  1.57079633,  5.49778714,  6.28318531])\n",
      "    >>> np.unwrap(phase)\n",
      "    array([ 0.        ,  0.78539816,  1.57079633, -0.78539816,  0.        ])\n",
      "\n"
     ]
    }
   ],
   "source": [
    "help(np.unwrap)"
   ]
  },
  {
   "cell_type": "code",
   "execution_count": 79,
   "metadata": {},
   "outputs": [
    {
     "name": "stdout",
     "output_type": "stream",
     "text": [
      "Help on function linspace in module numpy.core.function_base:\n",
      "\n",
      "linspace(start, stop, num=50, endpoint=True, retstep=False, dtype=None)\n",
      "    Return evenly spaced numbers over a specified interval.\n",
      "    \n",
      "    Returns `num` evenly spaced samples, calculated over the\n",
      "    interval [`start`, `stop`].\n",
      "    \n",
      "    The endpoint of the interval can optionally be excluded.\n",
      "    \n",
      "    Parameters\n",
      "    ----------\n",
      "    start : scalar\n",
      "        The starting value of the sequence.\n",
      "    stop : scalar\n",
      "        The end value of the sequence, unless `endpoint` is set to False.\n",
      "        In that case, the sequence consists of all but the last of ``num + 1``\n",
      "        evenly spaced samples, so that `stop` is excluded.  Note that the step\n",
      "        size changes when `endpoint` is False.\n",
      "    num : int, optional\n",
      "        Number of samples to generate. Default is 50. Must be non-negative.\n",
      "    endpoint : bool, optional\n",
      "        If True, `stop` is the last sample. Otherwise, it is not included.\n",
      "        Default is True.\n",
      "    retstep : bool, optional\n",
      "        If True, return (`samples`, `step`), where `step` is the spacing\n",
      "        between samples.\n",
      "    dtype : dtype, optional\n",
      "        The type of the output array.  If `dtype` is not given, infer the data\n",
      "        type from the other input arguments.\n",
      "    \n",
      "        .. versionadded:: 1.9.0\n",
      "    \n",
      "    Returns\n",
      "    -------\n",
      "    samples : ndarray\n",
      "        There are `num` equally spaced samples in the closed interval\n",
      "        ``[start, stop]`` or the half-open interval ``[start, stop)``\n",
      "        (depending on whether `endpoint` is True or False).\n",
      "    step : float, optional\n",
      "        Only returned if `retstep` is True\n",
      "    \n",
      "        Size of spacing between samples.\n",
      "    \n",
      "    \n",
      "    See Also\n",
      "    --------\n",
      "    arange : Similar to `linspace`, but uses a step size (instead of the\n",
      "             number of samples).\n",
      "    logspace : Samples uniformly distributed in log space.\n",
      "    \n",
      "    Examples\n",
      "    --------\n",
      "    >>> np.linspace(2.0, 3.0, num=5)\n",
      "    array([ 2.  ,  2.25,  2.5 ,  2.75,  3.  ])\n",
      "    >>> np.linspace(2.0, 3.0, num=5, endpoint=False)\n",
      "    array([ 2. ,  2.2,  2.4,  2.6,  2.8])\n",
      "    >>> np.linspace(2.0, 3.0, num=5, retstep=True)\n",
      "    (array([ 2.  ,  2.25,  2.5 ,  2.75,  3.  ]), 0.25)\n",
      "    \n",
      "    Graphical illustration:\n",
      "    \n",
      "    >>> import matplotlib.pyplot as plt\n",
      "    >>> N = 8\n",
      "    >>> y = np.zeros(N)\n",
      "    >>> x1 = np.linspace(0, 10, N, endpoint=True)\n",
      "    >>> x2 = np.linspace(0, 10, N, endpoint=False)\n",
      "    >>> plt.plot(x1, y, 'o')\n",
      "    [<matplotlib.lines.Line2D object at 0x...>]\n",
      "    >>> plt.plot(x2, y + 0.5, 'o')\n",
      "    [<matplotlib.lines.Line2D object at 0x...>]\n",
      "    >>> plt.ylim([-0.5, 1])\n",
      "    (-0.5, 1)\n",
      "    >>> plt.show()\n",
      "\n"
     ]
    }
   ],
   "source": [
    "help(np.linspace)"
   ]
  },
  {
   "cell_type": "code",
   "execution_count": 80,
   "metadata": {},
   "outputs": [
    {
     "name": "stdout",
     "output_type": "stream",
     "text": [
      "[  1.   2.   3.   4.   5.   6.   7.   8.   9.  10.]\n",
      "[  1.00000000e+01   1.00000000e+02   1.00000000e+03   1.00000000e+04\n",
      "   1.00000000e+05   1.00000000e+06   1.00000000e+07   1.00000000e+08\n",
      "   1.00000000e+09   1.00000000e+10]\n"
     ]
    }
   ],
   "source": [
    "print(np.linspace(1,10,10))\n",
    "print(np.logspace(1,10,10))"
   ]
  },
  {
   "cell_type": "code",
   "execution_count": 81,
   "metadata": {},
   "outputs": [
    {
     "name": "stdout",
     "output_type": "stream",
     "text": [
      "[array([ True,  True,  True, False, False, False, False, False, False, False], dtype=bool), array([False, False, False, False, False, False,  True,  True,  True,  True], dtype=bool)]\n",
      "[array([0, 1, 2, 3, 4, 5, 6, 7, 8, 9]), array([ 0,  1,  4,  9, 16, 25, 36, 49, 64, 81])]\n"
     ]
    },
    {
     "data": {
      "text/plain": [
       "array([ 0,  1,  2,  0,  0,  0, 36, 49, 64, 81])"
      ]
     },
     "execution_count": 81,
     "metadata": {},
     "output_type": "execute_result"
    }
   ],
   "source": [
    "x = np.arange(10)\n",
    "condlist = [x<3, x>5]\n",
    "choicelist = [x, x**2]\n",
    "print(condlist)\n",
    "print(choicelist)\n",
    "np.select(condlist, choicelist)"
   ]
  },
  {
   "cell_type": "code",
   "execution_count": 82,
   "metadata": {},
   "outputs": [
    {
     "data": {
      "text/plain": [
       "6.0"
      ]
     },
     "execution_count": 82,
     "metadata": {},
     "output_type": "execute_result"
    }
   ],
   "source": [
    "from scipy.special import factorial\n",
    "from scipy.special import comb\n",
    "factorial(6)\n",
    "comb(4,2)\n",
    "\n"
   ]
  },
  {
   "cell_type": "code",
   "execution_count": 83,
   "metadata": {},
   "outputs": [
    {
     "name": "stdout",
     "output_type": "stream",
     "text": [
      "Help on function comb in module scipy.special.basic:\n",
      "\n",
      "comb(N, k, exact=False, repetition=False)\n",
      "    The number of combinations of N things taken k at a time.\n",
      "    \n",
      "    This is often expressed as \"N choose k\".\n",
      "    \n",
      "    Parameters\n",
      "    ----------\n",
      "    N : int, ndarray\n",
      "        Number of things.\n",
      "    k : int, ndarray\n",
      "        Number of elements taken.\n",
      "    exact : bool, optional\n",
      "        If `exact` is False, then floating point precision is used, otherwise\n",
      "        exact long integer is computed.\n",
      "    repetition : bool, optional\n",
      "        If `repetition` is True, then the number of combinations with\n",
      "        repetition is computed.\n",
      "    \n",
      "    Returns\n",
      "    -------\n",
      "    val : int, ndarray\n",
      "        The total number of combinations.\n",
      "    \n",
      "    See Also\n",
      "    --------\n",
      "    binom : Binomial coefficient ufunc\n",
      "    \n",
      "    Notes\n",
      "    -----\n",
      "    - Array arguments accepted only for exact=False case.\n",
      "    - If k > N, N < 0, or k < 0, then a 0 is returned.\n",
      "    \n",
      "    Examples\n",
      "    --------\n",
      "    >>> from scipy.special import comb\n",
      "    >>> k = np.array([3, 4])\n",
      "    >>> n = np.array([10, 10])\n",
      "    >>> comb(n, k, exact=False)\n",
      "    array([ 120.,  210.])\n",
      "    >>> comb(10, 3, exact=True)\n",
      "    120L\n",
      "    >>> comb(10, 3, exact=True, repetition=True)\n",
      "    220L\n",
      "\n"
     ]
    }
   ],
   "source": [
    "help(comb)"
   ]
  },
  {
   "cell_type": "code",
   "execution_count": 84,
   "metadata": {
    "collapsed": true
   },
   "outputs": [],
   "source": [
    "from scipy.interpolate import interp1d\n",
    "\n",
    "x = np.linspace(0, 10, num=11, endpoint=True)\n",
    "y = np.cos(-x**2/9.0)\n",
    "f = interp1d(x, y)"
   ]
  },
  {
   "cell_type": "code",
   "execution_count": 87,
   "metadata": {},
   "outputs": [
    {
     "name": "stdout",
     "output_type": "stream",
     "text": [
      "[[-9.28]\n",
      " [ 5.16]\n",
      " [ 0.76]]\n",
      "-25.000000000000004\n"
     ]
    }
   ],
   "source": [
    "import numpy as np\n",
    "from scipy import linalg\n",
    "A = np.mat('[1 3 5;2 5 1;2 3 8]')\n",
    "B = np.mat('[10; 8; 3]')\n",
    "#X = np.mat('[x y z]')\n",
    "print(linalg.inv(A)*B)\n",
    "print(linalg.det(A))"
   ]
  },
  {
   "cell_type": "markdown",
   "metadata": {
    "collapsed": true
   },
   "source": [
    "### Numpy Examples\n"
   ]
  },
  {
   "cell_type": "code",
   "execution_count": 90,
   "metadata": {},
   "outputs": [
    {
     "name": "stdout",
     "output_type": "stream",
     "text": [
      "[1 2 3 4] (4,) 1\n"
     ]
    }
   ],
   "source": [
    "a1 = np.array([1,2,3,4])\n",
    "print(a1, a1.shape, a1.ndim) # .shape == No. of elements and .ndim == dimension"
   ]
  },
  {
   "cell_type": "code",
   "execution_count": 95,
   "metadata": {},
   "outputs": [
    {
     "name": "stdout",
     "output_type": "stream",
     "text": [
      "[[ 1  2]\n",
      " [ 3 10]] (2, 2) 2\n",
      "[[ 1  2]\n",
      " [ 3 10]] (2, 2) 2\n",
      "[ 1  2  3 10] (4,) 1\n"
     ]
    }
   ],
   "source": [
    "b1 = a1.reshape(2,2)\n",
    "print(b1, b1.shape, b1.ndim)\n",
    "b1[1][1] = 10\n",
    "print(b1, b1.shape, b1.ndim)\n",
    "print(a1, a1.shape, a1.ndim) # Observe here the array \"a1\" is also changed automatically here"
   ]
  },
  {
   "cell_type": "code",
   "execution_count": 100,
   "metadata": {},
   "outputs": [
    {
     "name": "stdout",
     "output_type": "stream",
     "text": [
      "[[ 1  2]\n",
      " [ 3 10]] (2, 2) 2\n",
      "[[ 1  2]\n",
      " [ 3 20]] (2, 2) 2\n",
      "[ 1  2  3 10] (4,) 1\n"
     ]
    }
   ],
   "source": [
    "# if need a true copy of the array use .copy() always\n",
    "c1 = a1.reshape(2,2).copy()\n",
    "print(c1, c1.shape, c1.ndim)\n",
    "c1[1][1] = 20\n",
    "print(c1, c1.shape, c1.ndim)\n",
    "print(a1, a1.shape, a1.ndim) # observe the value in a1 is not altered but changed in c1 to 20"
   ]
  },
  {
   "cell_type": "code",
   "execution_count": 109,
   "metadata": {},
   "outputs": [
    {
     "name": "stdout",
     "output_type": "stream",
     "text": [
      "[[ 1  2]\n",
      " [ 3 20]]\n",
      "[[ 2  4]\n",
      " [ 6 40]]\n",
      "[[  0.5   1. ]\n",
      " [  1.5  10. ]]\n",
      "[[ 3  4]\n",
      " [ 5 22]]\n",
      "[[-1  0]\n",
      " [ 1 18]]\n",
      "[1, 2, 3, 4, 1, 2, 3, 4]\n"
     ]
    }
   ],
   "source": [
    "## multiplication (or any operation) of a number to array will change all of it elements\n",
    "print(c1)\n",
    "print(c1*2)\n",
    "print(c1/2)\n",
    "print(c1+2)\n",
    "print(c1-2)\n",
    "d1 = [1,2,3,4]\n",
    "print(d1*2) # observe how to list behaves when we apply operations"
   ]
  },
  {
   "cell_type": "code",
   "execution_count": 115,
   "metadata": {},
   "outputs": [
    {
     "name": "stdout",
     "output_type": "stream",
     "text": [
      "[False False False  True]\n",
      "[10]\n",
      "[20]\n"
     ]
    }
   ],
   "source": [
    "a1[np.array([1,3])]\n",
    "print(a1>4)\n",
    "print(a1[a1>4])\n",
    "a1[a1>4] = 20\n",
    "print(a1[a1>4])"
   ]
  },
  {
   "cell_type": "code",
   "execution_count": 124,
   "metadata": {},
   "outputs": [
    {
     "data": {
      "text/plain": [
       "array([2, 2, 3, 7])"
      ]
     },
     "execution_count": 124,
     "metadata": {},
     "output_type": "execute_result"
    }
   ],
   "source": [
    "a1.clip(2,7) # important function"
   ]
  },
  {
   "cell_type": "code",
   "execution_count": 120,
   "metadata": {},
   "outputs": [
    {
     "data": {
      "text/plain": [
       "array([ 1,  2,  3, 20])"
      ]
     },
     "execution_count": 120,
     "metadata": {},
     "output_type": "execute_result"
    }
   ],
   "source": [
    "a1"
   ]
  },
  {
   "cell_type": "markdown",
   "metadata": {},
   "source": [
    "##Handling nonexisting values"
   ]
  },
  {
   "cell_type": "code",
   "execution_count": 135,
   "metadata": {},
   "outputs": [
    {
     "name": "stdout",
     "output_type": "stream",
     "text": [
      "[False False False  True False]\n",
      "[ 1.  2.  3.  6.]\n",
      "3.0\n"
     ]
    }
   ],
   "source": [
    "f1 = np.array([1,2,3, np.NAN, 6]) # read from a file a NAN value\n",
    "print(np.isnan(f1))\n",
    "print(f1[~np.isnan(f1)])\n",
    "print(np.mean(f1[~np.isnan(f1)]))"
   ]
  },
  {
   "cell_type": "code",
   "execution_count": null,
   "metadata": {
    "collapsed": true
   },
   "outputs": [],
   "source": []
  }
 ],
 "metadata": {
  "kernelspec": {
   "display_name": "Python 3",
   "language": "python",
   "name": "python3"
  },
  "language_info": {
   "codemirror_mode": {
    "name": "ipython",
    "version": 3
   },
   "file_extension": ".py",
   "mimetype": "text/x-python",
   "name": "python",
   "nbconvert_exporter": "python",
   "pygments_lexer": "ipython3",
   "version": "3.6.2"
  }
 },
 "nbformat": 4,
 "nbformat_minor": 2
}
